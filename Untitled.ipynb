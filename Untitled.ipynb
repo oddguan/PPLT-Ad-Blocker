{
 "cells": [
  {
   "source": [
    "import pandas as pd\n",
    "import numpy as np\n",
    "import matplotlib.pyplot as plt\n",
    "import seaborn as sns\n",
    "%matplotlib inline\n",
    "from sklearn.model_selection import train_test_split\n",
    "from sklearn.linear_model import Lasso, LogisticRegression\n",
    "from sklearn.feature_selection import SelectFromModel\n",
    "from sklearn.preprocessing import StandardScaler\n",
    "from sklearn.utils import shuffle"
   ],
   "cell_type": "code",
   "outputs": [],
   "metadata": {},
   "execution_count": 1
  },
  {
   "source": [
    "visitors = pd.read_csv(\"Visitors.csv\")\n",
    "contacts = pd.read_csv(\"Contacts.csv\")\n",
    "df = visitors.merge(contacts, on=\"visitor_id\", how=\"outer\")\n",
    "df.head()"
   ],
   "cell_type": "code",
   "outputs": [
    {
     "output_type": "execute_result",
     "data": {
      "text/plain": "   row_number          visitor_id             search_timestamp  \\\n0       15173  344101422347558000  2018-11-26 15:43:43.365 UTC   \n1       15170  344101422347558000  2018-11-26 15:43:43.365 UTC   \n2       15171  344101422347558000  2018-11-26 15:43:43.365 UTC   \n3       15172  344101422347558000  2018-11-26 15:43:43.365 UTC   \n4       15169  344101422347558000  2018-11-26 15:43:43.365 UTC   \n\n                        category       pro_user_id_x  num_reviews  avg_rating  \\\n0  Local Moving (under 50 miles)  343959583718981000            0         NaN   \n1  Local Moving (under 50 miles)  338786968198504000           19    4.631579   \n2  Local Moving (under 50 miles)  287508145893057000           29    4.517241   \n3  Local Moving (under 50 miles)  121198992106325000           42    4.261905   \n4  Local Moving (under 50 miles)  207790949875041000           73    4.698630   \n\n  pro_last_active_time_before_search  cost_estimate_cents  result_position  \\\n0                                NaN                  NaN                6   \n1        2018-11-25 22:18:17.607 UTC               8000.0                3   \n2        2018-11-26 00:46:38.747 UTC               7000.0                4   \n3        2018-11-24 14:56:46.921 UTC               9100.0                5   \n4         2018-11-25 19:30:34.05 UTC               8500.0                2   \n\n   service_page_viewed  pro_user_id_y    contact_id  hired  \n0                False   2.875081e+17  3.441018e+17  False  \n1                False   2.875081e+17  3.441018e+17  False  \n2                 True   2.875081e+17  3.441018e+17  False  \n3                False   2.875081e+17  3.441018e+17  False  \n4                False   2.875081e+17  3.441018e+17  False  ",
      "text/html": "<div>\n<style scoped>\n    .dataframe tbody tr th:only-of-type {\n        vertical-align: middle;\n    }\n\n    .dataframe tbody tr th {\n        vertical-align: top;\n    }\n\n    .dataframe thead th {\n        text-align: right;\n    }\n</style>\n<table border=\"1\" class=\"dataframe\">\n  <thead>\n    <tr style=\"text-align: right;\">\n      <th></th>\n      <th>row_number</th>\n      <th>visitor_id</th>\n      <th>search_timestamp</th>\n      <th>category</th>\n      <th>pro_user_id_x</th>\n      <th>num_reviews</th>\n      <th>avg_rating</th>\n      <th>pro_last_active_time_before_search</th>\n      <th>cost_estimate_cents</th>\n      <th>result_position</th>\n      <th>service_page_viewed</th>\n      <th>pro_user_id_y</th>\n      <th>contact_id</th>\n      <th>hired</th>\n    </tr>\n  </thead>\n  <tbody>\n    <tr>\n      <th>0</th>\n      <td>15173</td>\n      <td>344101422347558000</td>\n      <td>2018-11-26 15:43:43.365 UTC</td>\n      <td>Local Moving (under 50 miles)</td>\n      <td>343959583718981000</td>\n      <td>0</td>\n      <td>NaN</td>\n      <td>NaN</td>\n      <td>NaN</td>\n      <td>6</td>\n      <td>False</td>\n      <td>2.875081e+17</td>\n      <td>3.441018e+17</td>\n      <td>False</td>\n    </tr>\n    <tr>\n      <th>1</th>\n      <td>15170</td>\n      <td>344101422347558000</td>\n      <td>2018-11-26 15:43:43.365 UTC</td>\n      <td>Local Moving (under 50 miles)</td>\n      <td>338786968198504000</td>\n      <td>19</td>\n      <td>4.631579</td>\n      <td>2018-11-25 22:18:17.607 UTC</td>\n      <td>8000.0</td>\n      <td>3</td>\n      <td>False</td>\n      <td>2.875081e+17</td>\n      <td>3.441018e+17</td>\n      <td>False</td>\n    </tr>\n    <tr>\n      <th>2</th>\n      <td>15171</td>\n      <td>344101422347558000</td>\n      <td>2018-11-26 15:43:43.365 UTC</td>\n      <td>Local Moving (under 50 miles)</td>\n      <td>287508145893057000</td>\n      <td>29</td>\n      <td>4.517241</td>\n      <td>2018-11-26 00:46:38.747 UTC</td>\n      <td>7000.0</td>\n      <td>4</td>\n      <td>True</td>\n      <td>2.875081e+17</td>\n      <td>3.441018e+17</td>\n      <td>False</td>\n    </tr>\n    <tr>\n      <th>3</th>\n      <td>15172</td>\n      <td>344101422347558000</td>\n      <td>2018-11-26 15:43:43.365 UTC</td>\n      <td>Local Moving (under 50 miles)</td>\n      <td>121198992106325000</td>\n      <td>42</td>\n      <td>4.261905</td>\n      <td>2018-11-24 14:56:46.921 UTC</td>\n      <td>9100.0</td>\n      <td>5</td>\n      <td>False</td>\n      <td>2.875081e+17</td>\n      <td>3.441018e+17</td>\n      <td>False</td>\n    </tr>\n    <tr>\n      <th>4</th>\n      <td>15169</td>\n      <td>344101422347558000</td>\n      <td>2018-11-26 15:43:43.365 UTC</td>\n      <td>Local Moving (under 50 miles)</td>\n      <td>207790949875041000</td>\n      <td>73</td>\n      <td>4.698630</td>\n      <td>2018-11-25 19:30:34.05 UTC</td>\n      <td>8500.0</td>\n      <td>2</td>\n      <td>False</td>\n      <td>2.875081e+17</td>\n      <td>3.441018e+17</td>\n      <td>False</td>\n    </tr>\n  </tbody>\n</table>\n</div>"
     },
     "metadata": {},
     "execution_count": 2
    }
   ],
   "metadata": {},
   "execution_count": 2
  },
  {
   "source": [
    "# train = df[['num_reviews','avg_rating','cost_estimate_cents','result_position','service_page_viewed','hired']]\n",
    "# X_train, X_test, y_train, y_test = train_test_split(train.drop('hired', axis=1), train['hired'], test_size=0.3, random_state=0)\n",
    "# scaler = StandardScaler()\n",
    "# scaler.fit(X_train.fillna(0))\n",
    "# logit = LogisticRegression()\n",
    "# y_train = y_train.astype('int')\n",
    "# X_train, y_train = shuffle(X_train, y_train)\n",
    "# logit.fit(scaler.transform(X_train.fillna(0)), y_train)\n",
    "df = df[['hired'] == True]\n",
    "df.to_csv(\"true.csv\")"
   ],
   "cell_type": "code",
   "outputs": [
    {
     "output_type": "error",
     "ename": "KeyError",
     "evalue": "False",
     "traceback": [
      "\u001b[0;31m---------------------------------------------------------------------------\u001b[0m",
      "\u001b[0;31mKeyError\u001b[0m                                  Traceback (most recent call last)",
      "\u001b[0;32m<ipython-input-6-19832b18be17>\u001b[0m in \u001b[0;36m<module>\u001b[0;34m\u001b[0m\n\u001b[1;32m      7\u001b[0m \u001b[0;31m# X_train, y_train = shuffle(X_train, y_train)\u001b[0m\u001b[0;34m\u001b[0m\u001b[0;34m\u001b[0m\u001b[0;34m\u001b[0m\u001b[0m\n\u001b[1;32m      8\u001b[0m \u001b[0;31m# logit.fit(scaler.transform(X_train.fillna(0)), y_train)\u001b[0m\u001b[0;34m\u001b[0m\u001b[0;34m\u001b[0m\u001b[0;34m\u001b[0m\u001b[0m\n\u001b[0;32m----> 9\u001b[0;31m \u001b[0mdf\u001b[0m \u001b[0;34m=\u001b[0m \u001b[0mdf\u001b[0m\u001b[0;34m[\u001b[0m\u001b[0;34m[\u001b[0m\u001b[0;34m'hired'\u001b[0m\u001b[0;34m]\u001b[0m \u001b[0;34m==\u001b[0m \u001b[0;32mTrue\u001b[0m\u001b[0;34m]\u001b[0m\u001b[0;34m\u001b[0m\u001b[0;34m\u001b[0m\u001b[0m\n\u001b[0m\u001b[1;32m     10\u001b[0m \u001b[0mdf\u001b[0m\u001b[0;34m.\u001b[0m\u001b[0mto_csv\u001b[0m\u001b[0;34m(\u001b[0m\u001b[0;34m\"true.csv\"\u001b[0m\u001b[0;34m)\u001b[0m\u001b[0;34m\u001b[0m\u001b[0;34m\u001b[0m\u001b[0m\n",
      "\u001b[0;32m~/Anaconda/anaconda3/lib/python3.7/site-packages/pandas/core/series.py\u001b[0m in \u001b[0;36m__getitem__\u001b[0;34m(self, key)\u001b[0m\n\u001b[1;32m    866\u001b[0m         \u001b[0mkey\u001b[0m \u001b[0;34m=\u001b[0m \u001b[0mcom\u001b[0m\u001b[0;34m.\u001b[0m\u001b[0mapply_if_callable\u001b[0m\u001b[0;34m(\u001b[0m\u001b[0mkey\u001b[0m\u001b[0;34m,\u001b[0m \u001b[0mself\u001b[0m\u001b[0;34m)\u001b[0m\u001b[0;34m\u001b[0m\u001b[0;34m\u001b[0m\u001b[0m\n\u001b[1;32m    867\u001b[0m         \u001b[0;32mtry\u001b[0m\u001b[0;34m:\u001b[0m\u001b[0;34m\u001b[0m\u001b[0;34m\u001b[0m\u001b[0m\n\u001b[0;32m--> 868\u001b[0;31m             \u001b[0mresult\u001b[0m \u001b[0;34m=\u001b[0m \u001b[0mself\u001b[0m\u001b[0;34m.\u001b[0m\u001b[0mindex\u001b[0m\u001b[0;34m.\u001b[0m\u001b[0mget_value\u001b[0m\u001b[0;34m(\u001b[0m\u001b[0mself\u001b[0m\u001b[0;34m,\u001b[0m \u001b[0mkey\u001b[0m\u001b[0;34m)\u001b[0m\u001b[0;34m\u001b[0m\u001b[0;34m\u001b[0m\u001b[0m\n\u001b[0m\u001b[1;32m    869\u001b[0m \u001b[0;34m\u001b[0m\u001b[0m\n\u001b[1;32m    870\u001b[0m             \u001b[0;32mif\u001b[0m \u001b[0;32mnot\u001b[0m \u001b[0mis_scalar\u001b[0m\u001b[0;34m(\u001b[0m\u001b[0mresult\u001b[0m\u001b[0;34m)\u001b[0m\u001b[0;34m:\u001b[0m\u001b[0;34m\u001b[0m\u001b[0;34m\u001b[0m\u001b[0m\n",
      "\u001b[0;32m~/Anaconda/anaconda3/lib/python3.7/site-packages/pandas/core/indexes/base.py\u001b[0m in \u001b[0;36mget_value\u001b[0;34m(self, series, key)\u001b[0m\n\u001b[1;32m   4373\u001b[0m         \u001b[0;32mtry\u001b[0m\u001b[0;34m:\u001b[0m\u001b[0;34m\u001b[0m\u001b[0;34m\u001b[0m\u001b[0m\n\u001b[1;32m   4374\u001b[0m             return self._engine.get_value(s, k,\n\u001b[0;32m-> 4375\u001b[0;31m                                           tz=getattr(series.dtype, 'tz', None))\n\u001b[0m\u001b[1;32m   4376\u001b[0m         \u001b[0;32mexcept\u001b[0m \u001b[0mKeyError\u001b[0m \u001b[0;32mas\u001b[0m \u001b[0me1\u001b[0m\u001b[0;34m:\u001b[0m\u001b[0;34m\u001b[0m\u001b[0;34m\u001b[0m\u001b[0m\n\u001b[1;32m   4377\u001b[0m             \u001b[0;32mif\u001b[0m \u001b[0mlen\u001b[0m\u001b[0;34m(\u001b[0m\u001b[0mself\u001b[0m\u001b[0;34m)\u001b[0m \u001b[0;34m>\u001b[0m \u001b[0;36m0\u001b[0m \u001b[0;32mand\u001b[0m \u001b[0;34m(\u001b[0m\u001b[0mself\u001b[0m\u001b[0;34m.\u001b[0m\u001b[0mholds_integer\u001b[0m\u001b[0;34m(\u001b[0m\u001b[0;34m)\u001b[0m \u001b[0;32mor\u001b[0m \u001b[0mself\u001b[0m\u001b[0;34m.\u001b[0m\u001b[0mis_boolean\u001b[0m\u001b[0;34m(\u001b[0m\u001b[0;34m)\u001b[0m\u001b[0;34m)\u001b[0m\u001b[0;34m:\u001b[0m\u001b[0;34m\u001b[0m\u001b[0;34m\u001b[0m\u001b[0m\n",
      "\u001b[0;32mpandas/_libs/index.pyx\u001b[0m in \u001b[0;36mpandas._libs.index.IndexEngine.get_value\u001b[0;34m()\u001b[0m\n",
      "\u001b[0;32mpandas/_libs/index.pyx\u001b[0m in \u001b[0;36mpandas._libs.index.IndexEngine.get_value\u001b[0;34m()\u001b[0m\n",
      "\u001b[0;32mpandas/_libs/index.pyx\u001b[0m in \u001b[0;36mpandas._libs.index.IndexEngine.get_loc\u001b[0;34m()\u001b[0m\n",
      "\u001b[0;32mpandas/_libs/index_class_helper.pxi\u001b[0m in \u001b[0;36mpandas._libs.index.Int64Engine._check_type\u001b[0;34m()\u001b[0m\n",
      "\u001b[0;31mKeyError\u001b[0m: False"
     ]
    }
   ],
   "metadata": {},
   "execution_count": 6
  },
  {
   "cell_type": "code",
   "execution_count": null,
   "metadata": {},
   "outputs": [],
   "source": []
  }
 ],
 "metadata": {
  "kernelspec": {
   "display_name": "Python 3",
   "language": "python",
   "name": "python3"
  },
  "language_info": {
   "codemirror_mode": {
    "name": "ipython",
    "version": 3
   },
   "file_extension": ".py",
   "mimetype": "text/x-python",
   "name": "python",
   "nbconvert_exporter": "python",
   "pygments_lexer": "ipython3",
   "version": "3.7.3"
  }
 },
 "nbformat": 4,
 "nbformat_minor": 2
}